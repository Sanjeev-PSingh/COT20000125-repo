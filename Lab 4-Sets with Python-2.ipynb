{
 "cells": [
  {
   "cell_type": "markdown",
   "id": "207a3194-6f3e-45b8-8a7b-307e35c6026d",
   "metadata": {},
   "source": [
    "# Lab 4 - Sets with Python\n",
    "### COT2000 - Spring 2025"
   ]
  },
  {
   "cell_type": "markdown",
   "id": "b4da7443-64e6-4938-aafe-27bc28e0dee6",
   "metadata": {},
   "source": [
    "### Introduction to Sets in Python\n",
    "\n",
    "In Python, a set is an unordered collection of unique elements. Sets are defined using curly braces `{}` and can be used to perform various operations like union, intersection, and difference. Sets are useful for membership testing and eliminating duplicate entries. Here is an example of how to create and display a set:\n"
   ]
  },
  {
   "cell_type": "code",
   "execution_count": 8,
   "id": "977bcc1d-deb9-4c4d-acaa-76a2b20e43d6",
   "metadata": {},
   "outputs": [
    {
     "name": "stdout",
     "output_type": "stream",
     "text": [
      "{1, 2, 3, 4, 5}\n"
     ]
    }
   ],
   "source": [
    "my_set = {1, 2, 3, 4, 5}   # This creates a set with elements 1, 2, 3, 4, 5\n",
    "print(my_set)\n",
    "\n",
    "# Print the set to see its elements\n",
    "\n",
    "# Practice: Try adding more elements to the set and print it again"
   ]
  },
  {
   "cell_type": "code",
   "execution_count": 20,
   "id": "ed5af984-e382-4135-af09-177b788e5536",
   "metadata": {},
   "outputs": [
    {
     "name": "stdout",
     "output_type": "stream",
     "text": [
      "{1, 2, 3, 4, 5, 6, 7, 8, 9, 10}\n"
     ]
    }
   ],
   "source": [
    "my_set = {1, 2, 3, 4, 5, 6, 7, 9, 10}   # This creates a set with elements 1, 2, 3, 4, 5\n",
    "print(my_set)"
   ]
  },
  {
   "cell_type": "markdown",
   "id": "f9308a5d-46ee-470c-90fc-b37cab49d974",
   "metadata": {},
   "source": [
    "### Membership Testing\n",
    "\n",
    "Sets in Python are particularly useful for testing membership, i.e., checking whether an element is in a set. This operation is very efficient. Here is an example of how to test if specific elements are present in a set:\n"
   ]
  },
  {
   "cell_type": "code",
   "execution_count": 24,
   "id": "5b487025-40a8-43cb-9269-3ef9fc9d0d71",
   "metadata": {},
   "outputs": [
    {
     "name": "stdout",
     "output_type": "stream",
     "text": [
      "True\n",
      "True\n"
     ]
    }
   ],
   "source": [
    "print(4 in my_set)  # Check if 4 is in the set (Should return True)\n",
    "print(8 in my_set)  # Check if 8 is in the set (Should return False)\n",
    "\n",
    "# Practice: Try checking for other elements"
   ]
  },
  {
   "cell_type": "code",
   "execution_count": 28,
   "id": "b9fcb257-f8c4-4916-b584-b5481916c7d2",
   "metadata": {},
   "outputs": [
    {
     "name": "stdout",
     "output_type": "stream",
     "text": [
      "True\n",
      "False\n",
      "False\n"
     ]
    }
   ],
   "source": [
    "print(5 in my_set)\n",
    "print(12 in my_set)\n",
    "print(52 in my_set)"
   ]
  },
  {
   "cell_type": "markdown",
   "id": "9bf2910a-6fe6-4cf5-ae4f-32a76107f597",
   "metadata": {},
   "source": [
    "### Subset and Superset Operations\n",
    "\n",
    "A set `A` is a subset of set `B` if all elements of `A` are also elements of `B`. Similarly, `B` is a superset of `A`. Python provides methods to check these relationships. Here is how you can check if one set is a subset or a superset of another:\n"
   ]
  },
  {
   "cell_type": "code",
   "execution_count": 58,
   "id": "102c23c0-5e09-4b2d-bf58-eaf7a105eaea",
   "metadata": {},
   "outputs": [
    {
     "name": "stdout",
     "output_type": "stream",
     "text": [
      "True\n",
      "True\n"
     ]
    }
   ],
   "source": [
    "subset = {1, 2}                      # Define a subset\n",
    "print(subset.issubset(my_set))       # Check if subset is a subset of my_set (Should return True)\n",
    "print(my_set.issuperset(subset))     # Check if my_set is a superset of subset (Should return True)\n",
    "\n",
    "# Practice: Try defining other subsets and check the relationships\n",
    "# Example: subset2 = {2, 3}\n",
    "# Then check subset2.issubset(my_set) and my_set.issuperset(subset2)"
   ]
  },
  {
   "cell_type": "code",
   "execution_count": 46,
   "id": "ce2a8335-4467-491d-ab27-16f46561feec",
   "metadata": {},
   "outputs": [
    {
     "name": "stdout",
     "output_type": "stream",
     "text": [
      "True\n",
      "True\n",
      "True\n"
     ]
    }
   ],
   "source": [
    "subset3 = {3, 4}\n",
    "print(subset3.issubset(my_set))\n",
    "my_set.issuperset(subset3)\n",
    "\n",
    "subset4 = {4, 5}\n",
    "print(subset4.issubset(my_set))\n",
    "print(my_set.issuperset(subset4)) \n"
   ]
  },
  {
   "cell_type": "markdown",
   "id": "33dbb0a2-7186-4dcb-8898-ad6f2ddadfc4",
   "metadata": {},
   "source": [
    "### Set Operations (Union, Intersection, Difference)\n",
    "\n",
    "Python sets support various mathematical operations such as union, intersection, and difference. The union of two sets is a set containing all unique elements from both sets. The intersection is a set containing only elements that are in both sets. The difference is a set containing elements that are in one set but not in the other. Here is how you can perform these operations:\n"
   ]
  },
  {
   "cell_type": "code",
   "execution_count": 18,
   "id": "2449278b-300c-4b6b-8bd1-bbacde778c95",
   "metadata": {},
   "outputs": [
    {
     "name": "stdout",
     "output_type": "stream",
     "text": [
      "Union: {1, 2, 3, 4, 5, 6, 7, 8}\n",
      "Intersection: {4, 5}\n",
      "Difference: {1, 2, 3}\n"
     ]
    }
   ],
   "source": [
    "another_set = {4, 5, 6, 7, 8}                        # Define another set\n",
    "union_set = my_set.union(another_set)                # Perform union operation\n",
    "intersection_set = my_set.intersection(another_set)  # Perform intersection operation\n",
    "difference_set = my_set.difference(another_set)      # Perform difference operation\n",
    "\n",
    "print(\"Union:\", union_set)                           # Print the union of my_set and another_set\n",
    "print(\"Intersection:\", intersection_set)             # Print the intersection of my_set and another_set\n",
    "print(\"Difference:\", difference_set)                 # Print the difference of my_set and another_set\n",
    "\n",
    "# Practice: Try creating your own sets and perform these operations\n",
    "# Example: set1 = {1, 2, 3}\n",
    "# Example: set2 = {3, 4, 5}\n",
    "# Then find the union, intersection, and difference of set1 and set2\n"
   ]
  },
  {
   "cell_type": "code",
   "execution_count": 52,
   "id": "e51c64b1-3810-476f-9223-0a8d2278a134",
   "metadata": {},
   "outputs": [
    {
     "name": "stdout",
     "output_type": "stream",
     "text": [
      "Union: {5, 6, 7, 8, 9, 11}\n",
      "Intersection: {9, 5, 7}\n",
      "Difference: {11}\n"
     ]
    }
   ],
   "source": [
    "set_3 = {5, 7, 9, 11}\n",
    "set_4 = {5, 6, 7, 8, 9}\n",
    "union_set = set_3.union(set_4)\n",
    "intersection_set = set_3.intersection(set_4)\n",
    "difference_set = set_3.difference(set_4)\n",
    "\n",
    "print(\"Union:\", union_set)\n",
    "print(\"Intersection:\", intersection_set)\n",
    "print(\"Difference:\" , difference_set)"
   ]
  },
  {
   "cell_type": "markdown",
   "id": "7d44dcb4-588a-4a21-acd1-98559f2da152",
   "metadata": {},
   "source": [
    "### Ordered Pairs and Cartesian Products\n",
    "\n",
    "An ordered pair is a pair of elements with the order of the elements being significant. The Cartesian product of two sets is the set of all possible ordered pairs where the first element is from the first set and the second element is from the second set. Here is an example:\n"
   ]
  },
  {
   "cell_type": "code",
   "execution_count": 65,
   "id": "7ea7075f-4296-42ac-9977-62b0e273bae9",
   "metadata": {},
   "outputs": [
    {
     "name": "stdout",
     "output_type": "stream",
     "text": [
      "Cartesian Product: A x B = {(2, 3), (2, 4), (1, 3), (1, 4)}\n"
     ]
    }
   ],
   "source": [
    "A = {1, 2}  # Define the first set\n",
    "B = {3, 4}  # Define the second set\n",
    "cartesian_product = {(a, b) for a in A for b in B}  # Compute the Cartesian product\n",
    "print(\"Cartesian Product: A x B =\", cartesian_product)  # Print the Cartesian product\n",
    "\n",
    "# Practice: Try defining different sets and compute their Cartesian product\n",
    "# Example: A = {1, 2, 3}\n",
    "# Example: B = {4, 5}\n",
    "# Then find the Cartesian product of A and B"
   ]
  },
  {
   "cell_type": "code",
   "execution_count": 58,
   "id": "8bed8089-9bb8-4b55-9858-817a6447a8ec",
   "metadata": {},
   "outputs": [
    {
     "name": "stdout",
     "output_type": "stream",
     "text": [
      "Cartesian Product: C x D = {(5, 8), (6, 8), (7, 9), (5, 9), (6, 9), (7, 8)}\n"
     ]
    }
   ],
   "source": [
    "C = {5, 6, 7}\n",
    "D = {8, 9}\n",
    "cartesian_product1 = {(c, d) for c in C for d in D}\n",
    "print(\"Cartesian Product: C x D =\", cartesian_product1)\n"
   ]
  },
  {
   "cell_type": "markdown",
   "id": "eba3addd-7148-4a1c-ab18-14c7a8e1d3bf",
   "metadata": {},
   "source": [
    "### Cartesian Plane\n",
    "\n",
    "The Cartesian plane is a two-dimensional plane defined by an x-axis and a y-axis. Each point on the plane can be described by an ordered pair `(x, y)`. Here is an example of how to plot points from the Cartesian product on a Cartesian plane using matplotlib:\n"
   ]
  },
  {
   "cell_type": "code",
   "execution_count": 67,
   "id": "d88345fd-afce-4591-83fb-5eed00cb569a",
   "metadata": {},
   "outputs": [
    {
     "data": {
      "image/png": "[encoded data removed]",
      "text/plain": [
       "<Figure size 640x480 with 1 Axes>"
      ]
     },
     "metadata": {},
     "output_type": "display_data"
    }
   ],
   "source": [
    "import matplotlib.pyplot as plt\n",
    "\n",
    "# Convert the Cartesian product to a list of points\n",
    "points = list(cartesian_product)\n",
    "x_coords = [x for x, y in points]  # Get x-coordinates\n",
    "y_coords = [y for x, y in points]  # Get y-coordinates\n",
    "\n",
    "# Plot the points on the Cartesian plane\n",
    "plt.scatter(x_coords, y_coords)  # Plot the points\n",
    "plt.title(\"Cartesian Plane\")  # Set the title of the plot\n",
    "plt.xlabel(\"X-axis\")  # Set the label for the x-axis\n",
    "plt.ylabel(\"Y-axis\")  # Set the label for the y-axis\n",
    "plt.grid(True)  # Enable grid\n",
    "plt.show()  # Display the plot\n",
    "\n",
    "# Practice: Try plotting the Cartesian product of different sets\n",
    "# Example: Use sets A and B from the previous example\n"
   ]
  },
  {
   "cell_type": "code",
   "execution_count": null,
   "id": "be6d1cd5-00f7-428a-8c55-95502b9792a0",
   "metadata": {},
   "outputs": [],
   "source": []
  },
  {
   "cell_type": "code",
   "execution_count": 60,
   "id": "948ad67e-9fa4-4a89-9a95-064b0e6fd46d",
   "metadata": {},
   "outputs": [
    {
     "name": "stderr",
     "output_type": "stream",
     "text": [
      "Matplotlib is building the font cache; this may take a moment.\n"
     ]
    },
    {
     "data": {
      "image/png": "[encoded data removed]",
      "text/plain": [
       "<Figure size 640x480 with 1 Axes>"
      ]
     },
     "metadata": {},
     "output_type": "display_data"
    }
   ],
   "source": [
    "import matplotlib.pyplot as plt\n",
    "\n",
    "points = list(cartesian_product1)\n",
    "x_coords = [x for x, y in points]\n",
    "y_coords = [y for x, y in points]\n",
    "\n",
    "\n",
    "plt.scatter(x_coords, y_coords)\n",
    "plt.title(\"Cartesian Plane\")\n",
    "plt.xlabel(\"X-axis\")\n",
    "plt.ylabel(\"Y-axis\")\n",
    "plt.grid(True)\n",
    "plt.show()"
   ]
  },
  {
   "cell_type": "markdown",
   "id": "32121114-08d7-4060-b837-baff62b3732c",
   "metadata": {},
   "source": [
    "### Relations\n",
    "\n",
    "A relation between two sets is a subset of the Cartesian product of those sets. It pairs elements from the first set with elements from the second set. Here is an example of a relation between two sets:\n"
   ]
  },
  {
   "cell_type": "code",
   "execution_count": 69,
   "id": "4371e044-8ea1-43d4-948a-b9331b43df6b",
   "metadata": {},
   "outputs": [
    {
     "name": "stdout",
     "output_type": "stream",
     "text": [
      "Relation R: {(2, 4), (1, 3)}\n"
     ]
    }
   ],
   "source": [
    "A = {1, 2}  # Define the first set\n",
    "B = {3, 4}  # Define the second set\n",
    "\n",
    "# Define a relation as a subset of the Cartesian product\n",
    "R = {(1, 3), (2, 4)}\n",
    "print(\"Relation R:\", R)  # Print the relation\n",
    "\n",
    "# Practice: Try defining other relations and print them\n",
    "# Example: R2 = {(1, 4), (2, 3)}\n",
    "# Then print R2"
   ]
  },
  {
   "cell_type": "code",
   "execution_count": 68,
   "id": "ffb20173-31cf-4afd-ae0c-f8996bbc020d",
   "metadata": {},
   "outputs": [
    {
     "name": "stdout",
     "output_type": "stream",
     "text": [
      "Relation R: {(7, 8), (4, 3)}\n"
     ]
    }
   ],
   "source": [
    "C = {4, 7}\n",
    "D = {3, 8}\n",
    "\n",
    "R2 = {(4, 3), (7, 8)}\n",
    "print(\"Relation R:\", R2)"
   ]
  },
  {
   "cell_type": "markdown",
   "id": "c812d4cc-06e0-4df8-8a76-98d71777b445",
   "metadata": {},
   "source": [
    "### Functions (Mathematical Definition)\n",
    "\n",
    "In mathematics, a function is a special type of relation where each element in the domain is associated with exactly one element in the codomain. Here is how you can define a function in Python and verify its properties:\n"
   ]
  },
  {
   "cell_type": "code",
   "execution_count": 71,
   "id": "f0cfa456-3c55-47fb-b09a-fd36062bb4b6",
   "metadata": {},
   "outputs": [
    {
     "name": "stdout",
     "output_type": "stream",
     "text": [
      "f is a function: True\n"
     ]
    }
   ],
   "source": [
    "def is_function(relation, domain):\n",
    "    # Check if every element in the domain has exactly one pair in the relation\n",
    "    domain_elements = [pair[0] for pair in relation]\n",
    "    return all(domain_elements.count(e) == 1 for e in domain)\n",
    "\n",
    "A = {1, 2}  # Define the domain\n",
    "B = {3, 4}  # Define the codomain\n",
    "\n",
    "# Define a function as a set of ordered pairs\n",
    "f = {(1, 3), (2, 4)}\n",
    "\n",
    "# Check if f is a function\n",
    "print(\"f is a function:\", is_function(f, A))\n",
    "\n",
    "# Practice: Try defining other functions and check their properties\n",
    "# Example: f2 = {(1, 3), (1, 4)}\n",
    "# Then check is_function(f2, A)\n"
   ]
  },
  {
   "cell_type": "code",
   "execution_count": 62,
   "id": "c45db932-9917-4580-876f-a812f74875be",
   "metadata": {},
   "outputs": [
    {
     "name": "stdout",
     "output_type": "stream",
     "text": [
      "f is a function: False\n"
     ]
    }
   ],
   "source": [
    "def is_function(relation, domain):\n",
    "    # Check if every element in the domain has exactly one pair in the relation\n",
    "    domain_elements = [pair[0] for pair in relation]\n",
    "    return all(domain_elements.count(e) == 1 for e in domain)\n",
    "\n",
    "A = {2, 6}  # Define the domain\n",
    "B = {1, 5}  # Define the codomain\n",
    "\n",
    "# Define a function as a set of ordered pairs\n",
    "f2 = {(3, 4), (1, 5)}\n",
    "\n",
    "# Check if f is a function\n",
    "print(\"f is a function:\", is_function(f2, A))"
   ]
  },
  {
   "cell_type": "code",
   "execution_count": null,
   "id": "e5d6f856-b230-4511-a91a-df46bb3ec321",
   "metadata": {},
   "outputs": [],
   "source": []
  }
 ],
 "metadata": {
  "kernelspec": {
   "display_name": "Python [conda env:base] *",
   "language": "python",
   "name": "conda-base-py"
  },
  "language_info": {
   "codemirror_mode": {
    "name": "ipython",
    "version": 3
   },
   "file_extension": ".py",
   "mimetype": "text/x-python",
   "name": "python",
   "nbconvert_exporter": "python",
   "pygments_lexer": "ipython3",
   "version": "3.12.7"
  }
 },
 "nbformat": 4,
 "nbformat_minor": 5
}
